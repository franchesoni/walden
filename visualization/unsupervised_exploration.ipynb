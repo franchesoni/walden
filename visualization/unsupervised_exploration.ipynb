{
 "cells": [
  {
   "cell_type": "code",
   "execution_count": 38,
   "metadata": {},
   "outputs": [],
   "source": [
    "import csv\n",
    "import tqdm\n",
    "from pathlib import Path\n",
    "from PIL import Image, ImageDraw\n",
    "import numpy as np\n",
    "import h5py\n",
    "import faiss\n",
    "import matplotlib.pyplot as plt\n",
    "\n",
    "def load_bounding_boxes_csv(csv_file, imgnumber):\n",
    "    bboxes = []\n",
    "    with open(csv_file, \"r\") as f:\n",
    "        reader = csv.reader(f)\n",
    "        for row in reader:\n",
    "            bboxes.append([imgnumber] + [int(float(x)) for x in row])  # Convert strings to floats\n",
    "    return bboxes\n",
    "\n",
    "def load_image_with_bbox(bbox, center_crop=False):\n",
    "    \"\"\"\n",
    "    Load a 3x3 composite of tiles around the given bounding box and optionally\n",
    "    return a 512x512 crop centered on the bounding box.\n",
    "\n",
    "    Args:\n",
    "        bbox (list or tuple): [imgnumber, row, col, height, width]\n",
    "            - imgnumber: The image number (e.g., 5 for 'img5')\n",
    "            - row, col: Top-left coordinates of the bounding box in global coordinates\n",
    "            - height, width: Size of the bounding box\n",
    "        center_crop (bool): If True, return a 512x512 crop centered on the bounding box.\n",
    "                            If False, return the full 768x768 (3x3 tiles) composite.\n",
    "\n",
    "    Returns:\n",
    "        PIL.Image: The assembled image with bounding box drawn.\n",
    "    \"\"\"\n",
    "    # Unpack the bounding box\n",
    "    imgnumber, bbox_row, bbox_col, bbox_height, bbox_width = bbox\n",
    "\n",
    "    TILE_SIZE = 256\n",
    "    COMPOSITE_SIZE = TILE_SIZE * 3  # 768x768\n",
    "    CROP_SIZE = 512\n",
    "    HALF_CROP = CROP_SIZE // 2\n",
    "\n",
    "    # Directory with tiles\n",
    "    imgname = f\"img{imgnumber}\"\n",
    "    tiles_dir = Path(f\"dataset/{imgname}/tiles\")\n",
    "\n",
    "    # Determine the tile grid start\n",
    "    # We find the tile that contains the top-left corner of the bbox\n",
    "    tile_row_start = (bbox_row // TILE_SIZE) * TILE_SIZE\n",
    "    tile_col_start = (bbox_col // TILE_SIZE) * TILE_SIZE\n",
    "\n",
    "    # Create a composite image (3x3 tiles)\n",
    "    composite_image = Image.new(\"RGB\", (COMPOSITE_SIZE, COMPOSITE_SIZE), (255, 255, 255))\n",
    "\n",
    "    # Load surrounding 3x3 tiles\n",
    "    for i, drow in enumerate([-TILE_SIZE, 0, TILE_SIZE]):\n",
    "        for j, dcol in enumerate([-TILE_SIZE, 0, TILE_SIZE]):\n",
    "            tile_row = tile_row_start + drow\n",
    "            tile_col = tile_col_start + dcol\n",
    "            tile_name = f\"tile_{int(tile_row)}_{int(tile_col)}.jpeg\"\n",
    "            tile_path = tiles_dir / tile_name\n",
    "\n",
    "            if tile_path.exists():\n",
    "                try:\n",
    "                    tile_image = Image.open(tile_path)\n",
    "                    if tile_image.mode != \"RGB\":\n",
    "                        tile_image = tile_image.convert(\"RGB\")\n",
    "                    composite_image.paste(tile_image, (j * TILE_SIZE, i * TILE_SIZE))\n",
    "                except Exception as e:\n",
    "                    # If tile loading fails, use a placeholder\n",
    "                    placeholder = Image.new(\"RGB\", (TILE_SIZE, TILE_SIZE), (200, 200, 200))\n",
    "                    draw_placeholder = ImageDraw.Draw(placeholder)\n",
    "                    draw_placeholder.line((0, 0) + placeholder.size, fill=(150, 150, 150), width=3)\n",
    "                    draw_placeholder.line((0, placeholder.size[1], placeholder.size[0], 0),\n",
    "                                          fill=(150, 150, 150), width=3)\n",
    "                    composite_image.paste(placeholder, (j * TILE_SIZE, i * TILE_SIZE))\n",
    "            else:\n",
    "                # Missing tile placeholder\n",
    "                placeholder = Image.new(\"RGB\", (TILE_SIZE, TILE_SIZE), (200, 200, 200))\n",
    "                draw_placeholder = ImageDraw.Draw(placeholder)\n",
    "                draw_placeholder.line((0, 0) + placeholder.size, fill=(150, 150, 150), width=3)\n",
    "                draw_placeholder.line((0, placeholder.size[1], placeholder.size[0], 0),\n",
    "                                      fill=(150, 150, 150), width=3)\n",
    "                composite_image.paste(placeholder, (j * TILE_SIZE, i * TILE_SIZE))\n",
    "\n",
    "    # Draw the bounding box on the composite image\n",
    "    # Calculate the bounding box coordinates relative to the composite image\n",
    "    # The composite image's center tile corresponds to (tile_row_start, tile_col_start) in global coords\n",
    "    # Top-left tile in composite is at (tile_row_start - TILE_SIZE, tile_col_start - TILE_SIZE)\n",
    "    composite_top_row = tile_row_start - TILE_SIZE\n",
    "    composite_left_col = tile_col_start - TILE_SIZE\n",
    "\n",
    "    bbox_row_rel = bbox_row - composite_top_row\n",
    "    bbox_col_rel = bbox_col - composite_left_col\n",
    "    bbox_bottom_rel = bbox_row_rel + bbox_height\n",
    "    bbox_right_rel = bbox_col_rel + bbox_width\n",
    "\n",
    "    draw = ImageDraw.Draw(composite_image)\n",
    "    draw.rectangle([bbox_col_rel, bbox_row_rel, bbox_right_rel, bbox_bottom_rel],\n",
    "                   outline=\"green\", width=3)\n",
    "\n",
    "    if center_crop:\n",
    "        # We want to produce a 512x512 crop centered on the bbox center\n",
    "        bbox_center_row = bbox_row_rel + bbox_height / 2\n",
    "        bbox_center_col = bbox_col_rel + bbox_width / 2\n",
    "\n",
    "        # Center the BBox in the crop\n",
    "        # The BBox center should map to the center of the crop (256, 256)\n",
    "        left = int(bbox_center_col - HALF_CROP)\n",
    "        upper = int(bbox_center_row - HALF_CROP)\n",
    "        right = left + CROP_SIZE\n",
    "        lower = upper + CROP_SIZE\n",
    "\n",
    "        # Ensure we don't go outside the composite image boundaries\n",
    "        if left < 0:\n",
    "            right -= left\n",
    "            left = 0\n",
    "        if upper < 0:\n",
    "            lower -= upper\n",
    "            upper = 0\n",
    "        if right > COMPOSITE_SIZE:\n",
    "            left -= (right - COMPOSITE_SIZE)\n",
    "            right = COMPOSITE_SIZE\n",
    "        if lower > COMPOSITE_SIZE:\n",
    "            upper -= (lower - COMPOSITE_SIZE)\n",
    "            lower = COMPOSITE_SIZE\n",
    "\n",
    "        # Crop the image\n",
    "        cropped_image = composite_image.crop((left, upper, right, lower))\n",
    "\n",
    "        # If needed, pad to ensure exactly 512x512\n",
    "        w, h = cropped_image.size\n",
    "        if w < CROP_SIZE or h < CROP_SIZE:\n",
    "            padded = Image.new(\"RGB\", (CROP_SIZE, CROP_SIZE), (255, 255, 255))\n",
    "            padded.paste(cropped_image, ((CROP_SIZE - w)//2, (CROP_SIZE - h)//2))\n",
    "            cropped_image = padded\n",
    "\n",
    "        return cropped_image\n",
    "    else:\n",
    "        # Return the full 3x3 composite\n",
    "        return composite_image\n"
   ]
  },
  {
   "cell_type": "code",
   "execution_count": null,
   "metadata": {},
   "outputs": [],
   "source": [
    "\n",
    "# load features and bboxes\n",
    "feats = []\n",
    "bboxes = []\n",
    "for i in tqdm.tqdm([1,2,3,5,6]):  # all slides we have\n",
    "    imgname = f\"img{i}\"\n",
    "    feat = h5py.File(Path('out') / imgname / 'masks' / 'features.h5', 'r')[\"dataset\"][:]\n",
    "    bboxs = load_bounding_boxes_csv(Path('out') / imgname / 'masks' / 'global_bboxes.txt', i)\n",
    "    assert len(feat) == len(bboxs)\n",
    "    feats.append(feat)\n",
    "    bboxes.append(bboxs)\n",
    "feats = np.concatenate(feats, axis=0)\n",
    "bboxes = np.concatenate(bboxes, axis=0)\n",
    "\n"
   ]
  },
  {
   "cell_type": "code",
   "execution_count": null,
   "metadata": {},
   "outputs": [],
   "source": [
    "img = load_image_with_bbox(bboxes[3], center_crop=True)\n",
    "print(img.size)\n",
    "img"
   ]
  },
  {
   "cell_type": "markdown",
   "metadata": {},
   "source": [
    "# compute pca"
   ]
  },
  {
   "cell_type": "code",
   "execution_count": 21,
   "metadata": {},
   "outputs": [],
   "source": [
    "np.random.seed(0)\n",
    "pca_matrix = faiss.PCAMatrix(feats.shape[1], 2)    \n",
    "pca_matrix.train(feats)\n",
    "feats_pca = pca_matrix.apply(feats)"
   ]
  },
  {
   "cell_type": "code",
   "execution_count": null,
   "metadata": {},
   "outputs": [],
   "source": [
    "num_subsample = 10000\n",
    "subsampled_indices = np.random.choice(feats_pca.shape[0], 10000)\n",
    "subsample = feats_pca[subsampled_indices]\n",
    "plt.scatter(subsample[:,0], subsample[:,1], marker='.')"
   ]
  },
  {
   "cell_type": "code",
   "execution_count": 23,
   "metadata": {},
   "outputs": [],
   "source": [
    "ncentroids = 32\n",
    "niter = 32\n",
    "verbose = False\n",
    "dimension = 2\n",
    "kmeans = faiss.Kmeans(dimension, ncentroids, niter=niter, verbose=verbose, gpu=True)\n",
    "kmeans.train(subsample)\n",
    "D, I = kmeans.index.search(subsample, 1)"
   ]
  },
  {
   "cell_type": "code",
   "execution_count": null,
   "metadata": {},
   "outputs": [],
   "source": [
    "colors = np.random.rand(ncentroids, 3)\n",
    "plt.figure()\n",
    "for i in range(ncentroids):\n",
    "    plt.scatter(subsample[I[:,0]==i,0], subsample[I[:,0]==i,1], marker='.', color=colors[i])\n",
    "plt.scatter(kmeans.centroids[:,0], kmeans.centroids[:,1], marker='x', color='red')"
   ]
  },
  {
   "cell_type": "code",
   "execution_count": null,
   "metadata": {},
   "outputs": [],
   "source": [
    "for i in tqdm.tqdm(range(ncentroids)):\n",
    "    selected = I[:,0]==i\n",
    "    cluster_subsampled_indices = subsampled_indices[selected][:16]\n",
    "    to_draw_bboxes = bboxes[cluster_subsampled_indices]\n",
    "    collage = np.zeros((512*4, 512*4, 3), dtype=np.uint8)\n",
    "    for bbox_ind, bbox in enumerate(to_draw_bboxes):\n",
    "        img = load_image_with_bbox(bbox, center_crop=True)\n",
    "        r,c = bbox_ind // 4, bbox_ind % 4\n",
    "        collage[r*512:(r+1)*512, c*512:(c+1)*512] = np.array(img)\n",
    "    plt.figure(figsize=(10,10))\n",
    "    plt.title(f\"Cluster {i}\")\n",
    "    plt.imshow(collage)\n",
    "    plt.axis('off')\n",
    "\n",
    "    \n"
   ]
  },
  {
   "cell_type": "markdown",
   "metadata": {},
   "source": [
    "# full kmeans (32 clust)"
   ]
  },
  {
   "cell_type": "code",
   "execution_count": null,
   "metadata": {},
   "outputs": [],
   "source": [
    "ncentroids = 32\n",
    "niter = 32\n",
    "verbose = False\n",
    "dimension = feats.shape[1]\n",
    "print('fitting kmeans...')\n",
    "kmeans = faiss.Kmeans(dimension, ncentroids, niter=niter, verbose=verbose, gpu=True)\n",
    "kmeans.train(feats)\n",
    "print('done')\n",
    "D, I = kmeans.index.search(feats, 1)\n",
    "print(feats.shape, I.shape)"
   ]
  },
  {
   "cell_type": "code",
   "execution_count": null,
   "metadata": {},
   "outputs": [],
   "source": [
    "for i in tqdm.tqdm(range(ncentroids)):\n",
    "    selected = I[:,0]==i\n",
    "    random_indices = np.random.choice(np.where(selected)[0], 16)\n",
    "    to_draw_bboxes = bboxes[random_indices]\n",
    "    collage = np.zeros((512*4, 512*4, 3), dtype=np.uint8)\n",
    "    for bbox_ind, bbox in enumerate(to_draw_bboxes):\n",
    "        img = load_image_with_bbox(bbox, center_crop=True)\n",
    "        r,c = bbox_ind // 4, bbox_ind % 4\n",
    "        collage[r*512:(r+1)*512, c*512:(c+1)*512] = np.array(img)\n",
    "    plt.figure(figsize=(10,10))\n",
    "    plt.title(f\"Cluster {i}\")\n",
    "    plt.imshow(collage)\n",
    "    plt.axis('off')"
   ]
  },
  {
   "cell_type": "markdown",
   "metadata": {},
   "source": [
    "# compute kmeans (like 4k clusters)"
   ]
  },
  {
   "cell_type": "code",
   "execution_count": null,
   "metadata": {},
   "outputs": [],
   "source": [
    "ncentroids = 1024 * 4\n",
    "niter = 100\n",
    "verbose = True\n",
    "dimension = feats.shape[1]\n",
    "kmeans = faiss.Kmeans(dimension, ncentroids, niter=niter, verbose=verbose, gpu=True)\n",
    "kmeans.train(feats)"
   ]
  },
  {
   "cell_type": "code",
   "execution_count": null,
   "metadata": {},
   "outputs": [],
   "source": [
    "k = 3\n",
    "index = faiss.IndexFlatL2(feats.shape[1])\n",
    "D, I = index.search(feats, k)\n",
    "print(I[:1])"
   ]
  },
  {
   "cell_type": "code",
   "execution_count": null,
   "metadata": {},
   "outputs": [],
   "source": [
    "D, Y = index.search(feats, k)\n",
    "print(Y[2])"
   ]
  },
  {
   "cell_type": "code",
   "execution_count": null,
   "metadata": {},
   "outputs": [],
   "source": [
    "import matplotlib.pyplot as plt\n",
    "import cuvs.neighbors.ivf_pq as ivfpq\n",
    "import cupy as cp\n",
    "params = ivfpq.IndexParams(metric='inner_product')\n",
    "dataset = cp.array(feats)\n",
    "index = ivfpq.build(params, dataset)"
   ]
  },
  {
   "cell_type": "code",
   "execution_count": null,
   "metadata": {},
   "outputs": [],
   "source": [
    "distances, neighbors = ivfpq.search(ivfpq.SearchParams(), index, dataset, 3)\n",
    "distances\n",
    "neighbors"
   ]
  }
 ],
 "metadata": {
  "kernelspec": {
   "display_name": "py312",
   "language": "python",
   "name": "python3"
  },
  "language_info": {
   "codemirror_mode": {
    "name": "ipython",
    "version": 3
   },
   "file_extension": ".py",
   "mimetype": "text/x-python",
   "name": "python",
   "nbconvert_exporter": "python",
   "pygments_lexer": "ipython3",
   "version": "3.12.8"
  }
 },
 "nbformat": 4,
 "nbformat_minor": 2
}
